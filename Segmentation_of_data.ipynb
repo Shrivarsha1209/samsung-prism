{
  "nbformat": 4,
  "nbformat_minor": 0,
  "metadata": {
    "colab": {
      "provenance": [],
      "gpuType": "T4"
    },
    "kernelspec": {
      "name": "python3",
      "display_name": "Python 3"
    },
    "language_info": {
      "name": "python"
    },
    "accelerator": "GPU"
  },
  "cells": [
    {
      "cell_type": "code",
      "execution_count": null,
      "metadata": {
        "id": "1eL4qR0caPoP"
      },
      "outputs": [],
      "source": [
        "zip_path=\"/content/audiofile.zip\""
      ]
    },
    {
      "cell_type": "code",
      "source": [
        "import os\n",
        "import zipfile\n",
        "import librosa\n",
        "import soundfile as sf\n",
        "import pandas as pd\n",
        "\n",
        "# Step 1: Unzip the dataset\n",
        "def unzip_dataset(zip_path, extract_to='unzipped_data'):\n",
        "    if not os.path.exists(extract_to):\n",
        "        os.makedirs(extract_to)\n",
        "    with zipfile.ZipFile(zip_path, 'r') as zip_ref:\n",
        "        zip_ref.extractall(extract_to)\n",
        "    print(f\"✅ Unzipped dataset to '{extract_to}'\")"
      ],
      "metadata": {
        "id": "c8_qZ-VceoA1"
      },
      "execution_count": null,
      "outputs": []
    },
    {
      "cell_type": "code",
      "source": [
        "# Step 2: Load Audacity label file\n",
        "def load_labels(label_file_path):\n",
        "    return pd.read_csv(label_file_path, sep=\"\\t\", header=None, names=[\"start\", \"end\", \"label\"])\n"
      ],
      "metadata": {
        "id": "__UUvblnZ-1D"
      },
      "execution_count": null,
      "outputs": []
    },
    {
      "cell_type": "code",
      "source": [
        "# Step 3: Slice and save audio segments\n",
        "def slice_audio(audio_path, label_df, output_base_dir, file_prefix):\n",
        "    y, sr = librosa.load(audio_path, sr=None)\n",
        "    for i, row in label_df.iterrows():\n",
        "        start_sample = int(row['start'] * sr)\n",
        "        end_sample = int(row['end'] * sr)\n",
        "        segment = y[start_sample:end_sample]\n",
        "\n",
        "        label = row['label'].strip().lower()\n",
        "        out_dir = os.path.join(output_base_dir, label)\n",
        "        os.makedirs(out_dir, exist_ok=True)\n",
        "\n",
        "        out_path = os.path.join(out_dir, f\"{file_prefix}_{i}.wav\")\n",
        "        sf.write(out_path, segment, sr)\n",
        "        print(f\"    ➤ Saved: {out_path}\")"
      ],
      "metadata": {
        "id": "0w0Cv5xmaPVy"
      },
      "execution_count": null,
      "outputs": []
    },
    {
      "cell_type": "code",
      "source": [
        "def process_all(zip_path):\n",
        "    unzip_dataset(zip_path)\n",
        "\n",
        "    audio_dir = os.path.join(\"unzipped_data\", \"audiodata\", \"audio\")\n",
        "    label_dir = os.path.join(\"unzipped_data\", \"audiodata\", \"labels\")\n",
        "    output_dir = \"split_data\"\n",
        "\n",
        "    os.makedirs(output_dir, exist_ok=True)\n",
        "\n",
        "    # Create a mapping from label file (without \"_labels\") to full label path\n",
        "    label_map = {}\n",
        "    for label_file in os.listdir(label_dir):\n",
        "        if label_file.endswith(\".txt\"):\n",
        "            base = label_file.replace(\"_labels.txt\", \"\").lower()\n",
        "            label_map[base] = os.path.join(label_dir, label_file)\n",
        "\n",
        "    for audio_file in os.listdir(audio_dir):\n",
        "        if audio_file.endswith(\".wav\"):\n",
        "            base_name = os.path.splitext(audio_file)[0].lower()\n",
        "            audio_path = os.path.join(audio_dir, audio_file)\n",
        "\n",
        "            if base_name in label_map:\n",
        "                label_path = label_map[base_name]\n",
        "                print(f\"🔄 Processing: {audio_file} with {os.path.basename(label_path)}\")\n",
        "                labels_df = load_labels(label_path)\n",
        "                slice_audio(audio_path, labels_df, output_dir, base_name)\n",
        "            else:\n",
        "                print(f\"⚠️ Warning: No label file found for {audio_file}\")\n",
        "\n",
        "    print(\"✅ All files processed and saved to 'split_data/'\")\n"
      ],
      "metadata": {
        "id": "owpAuy4peIOH"
      },
      "execution_count": null,
      "outputs": []
    },
    {
      "cell_type": "code",
      "source": [
        "# Run the process\n",
        "if __name__ == \"__main__\":\n",
        "    process_all(zip_path)"
      ],
      "metadata": {
        "colab": {
          "base_uri": "https://localhost:8080/"
        },
        "id": "fZZGAHZHeOdW",
        "outputId": "78dd1e4c-1e14-4d28-f3c7-0322c8b7ea8c"
      },
      "execution_count": null,
      "outputs": [
        {
          "output_type": "stream",
          "name": "stdout",
          "text": [
            "✅ Unzipped dataset to 'unzipped_data'\n",
            "🔄 Processing: R4.wav with R4_labels.txt\n",
            "    ➤ Saved: split_data/dictation/r4_0.wav\n",
            "    ➤ Saved: split_data/command/r4_1.wav\n",
            "    ➤ Saved: split_data/dictation/r4_2.wav\n",
            "    ➤ Saved: split_data/command/r4_3.wav\n",
            "    ➤ Saved: split_data/dictation/r4_4.wav\n",
            "    ➤ Saved: split_data/command/r4_5.wav\n",
            "    ➤ Saved: split_data/dictation/r4_6.wav\n",
            "    ➤ Saved: split_data/command/r4_7.wav\n",
            "    ➤ Saved: split_data/dictation/r4_8.wav\n",
            "    ➤ Saved: split_data/command/r4_9.wav\n",
            "🔄 Processing: 10R.wav with 10R_labels.txt\n",
            "    ➤ Saved: split_data/dictation/10r_0.wav\n",
            "    ➤ Saved: split_data/command/10r_1.wav\n",
            "    ➤ Saved: split_data/dictation/10r_2.wav\n",
            "    ➤ Saved: split_data/command/10r_3.wav\n",
            "    ➤ Saved: split_data/dictation/10r_4.wav\n",
            "    ➤ Saved: split_data/command/10r_5.wav\n",
            "    ➤ Saved: split_data/dictation/10r_6.wav\n",
            "    ➤ Saved: split_data/command/10r_7.wav\n",
            "    ➤ Saved: split_data/dictation/10r_8.wav\n",
            "    ➤ Saved: split_data/command/10r_9.wav\n",
            "🔄 Processing: R1.wav with R1_labels.txt\n",
            "    ➤ Saved: split_data/dictation/r1_0.wav\n",
            "    ➤ Saved: split_data/command/r1_1.wav\n",
            "    ➤ Saved: split_data/dictation/r1_2.wav\n",
            "    ➤ Saved: split_data/command/r1_3.wav\n",
            "    ➤ Saved: split_data/dictation/r1_4.wav\n",
            "    ➤ Saved: split_data/command/r1_5.wav\n",
            "    ➤ Saved: split_data/dictation/r1_6.wav\n",
            "    ➤ Saved: split_data/command/r1_7.wav\n",
            "    ➤ Saved: split_data/dictation/r1_8.wav\n",
            "    ➤ Saved: split_data/command/r1_9.wav\n",
            "🔄 Processing: R6.wav with R6_labels.txt\n",
            "    ➤ Saved: split_data/dictation/r6_0.wav\n",
            "    ➤ Saved: split_data/command/r6_1.wav\n",
            "    ➤ Saved: split_data/dictation/r6_2.wav\n",
            "    ➤ Saved: split_data/command/r6_3.wav\n",
            "    ➤ Saved: split_data/dictation/r6_4.wav\n",
            "    ➤ Saved: split_data/command/r6_5.wav\n",
            "    ➤ Saved: split_data/dictation/r6_6.wav\n",
            "    ➤ Saved: split_data/command/r6_7.wav\n",
            "    ➤ Saved: split_data/dictation/r6_8.wav\n",
            "    ➤ Saved: split_data/command/r6_9.wav\n",
            "🔄 Processing: R7.wav with R7_labels.txt\n",
            "    ➤ Saved: split_data/dictation/r7_0.wav\n",
            "    ➤ Saved: split_data/command/r7_1.wav\n",
            "    ➤ Saved: split_data/dictation/r7_2.wav\n",
            "    ➤ Saved: split_data/command/r7_3.wav\n",
            "    ➤ Saved: split_data/dictation/r7_4.wav\n",
            "    ➤ Saved: split_data/command/r7_5.wav\n",
            "    ➤ Saved: split_data/dictation/r7_6.wav\n",
            "    ➤ Saved: split_data/command/r7_7.wav\n",
            "    ➤ Saved: split_data/dictation/r7_8.wav\n",
            "    ➤ Saved: split_data/command/r7_9.wav\n",
            "🔄 Processing: R8.wav with R8_labels.txt\n",
            "    ➤ Saved: split_data/dictation/r8_0.wav\n",
            "    ➤ Saved: split_data/command/r8_1.wav\n",
            "    ➤ Saved: split_data/dictation/r8_2.wav\n",
            "    ➤ Saved: split_data/command/r8_3.wav\n",
            "    ➤ Saved: split_data/dictation/r8_4.wav\n",
            "    ➤ Saved: split_data/command/r8_5.wav\n",
            "    ➤ Saved: split_data/dictation/r8_6.wav\n",
            "    ➤ Saved: split_data/command/r8_7.wav\n",
            "    ➤ Saved: split_data/dictation/r8_8.wav\n",
            "    ➤ Saved: split_data/command/r8_9.wav\n",
            "🔄 Processing: R9.wav with R9_labels.txt\n",
            "    ➤ Saved: split_data/dictation/r9_0.wav\n",
            "    ➤ Saved: split_data/command/r9_1.wav\n",
            "    ➤ Saved: split_data/dictation/r9_2.wav\n",
            "    ➤ Saved: split_data/command/r9_3.wav\n",
            "    ➤ Saved: split_data/dictation/r9_4.wav\n",
            "    ➤ Saved: split_data/command/r9_5.wav\n",
            "    ➤ Saved: split_data/dictation/r9_6.wav\n",
            "    ➤ Saved: split_data/command/r9_7.wav\n",
            "    ➤ Saved: split_data/dictation/r9_8.wav\n",
            "    ➤ Saved: split_data/command/r9_9.wav\n",
            "🔄 Processing: R2.wav with R2_labels.txt\n",
            "    ➤ Saved: split_data/dictation/r2_0.wav\n",
            "    ➤ Saved: split_data/command/r2_1.wav\n",
            "    ➤ Saved: split_data/dictation/r2_2.wav\n",
            "    ➤ Saved: split_data/command/r2_3.wav\n",
            "    ➤ Saved: split_data/dictation/r2_4.wav\n",
            "    ➤ Saved: split_data/command/r2_5.wav\n",
            "    ➤ Saved: split_data/dictation/r2_6.wav\n",
            "    ➤ Saved: split_data/command/r2_7.wav\n",
            "    ➤ Saved: split_data/dictation/r2_8.wav\n",
            "    ➤ Saved: split_data/command/r2_9.wav\n",
            "🔄 Processing: R5.wav with R5_labels.txt\n",
            "    ➤ Saved: split_data/dictation/r5_0.wav\n",
            "    ➤ Saved: split_data/command/r5_1.wav\n",
            "    ➤ Saved: split_data/dictation/r5_2.wav\n",
            "    ➤ Saved: split_data/command/r5_3.wav\n",
            "    ➤ Saved: split_data/dictation/r5_4.wav\n",
            "    ➤ Saved: split_data/command/r5_5.wav\n",
            "    ➤ Saved: split_data/dictation/r5_6.wav\n",
            "    ➤ Saved: split_data/command/r5_7.wav\n",
            "    ➤ Saved: split_data/dictation/r5_8.wav\n",
            "    ➤ Saved: split_data/command/r5_9.wav\n",
            "🔄 Processing: R3.wav with R3_labels.txt\n",
            "    ➤ Saved: split_data/dictation/r3_0.wav\n",
            "    ➤ Saved: split_data/command/r3_1.wav\n",
            "    ➤ Saved: split_data/dictation/r3_2.wav\n",
            "    ➤ Saved: split_data/command/r3_3.wav\n",
            "    ➤ Saved: split_data/dictation/r3_4.wav\n",
            "    ➤ Saved: split_data/command/r3_5.wav\n",
            "    ➤ Saved: split_data/dictation/r3_6.wav\n",
            "    ➤ Saved: split_data/command/r3_7.wav\n",
            "    ➤ Saved: split_data/dictation/r3_8.wav\n",
            "    ➤ Saved: split_data/command/r3_9.wav\n",
            "✅ All files processed and saved to 'split_data/'\n"
          ]
        }
      ]
    },
    {
      "cell_type": "code",
      "source": [
        "import shutil\n",
        "from google.colab import files\n",
        "\n",
        "# Zip the output folder\n",
        "shutil.make_archive('split_data', 'zip', 'split_data')\n",
        "\n",
        "# Download to local system\n",
        "files.download('split_data.zip')\n"
      ],
      "metadata": {
        "id": "PwA9NFX7iTUc",
        "outputId": "95ea232f-ca41-46af-ad90-5029e9c97754",
        "colab": {
          "base_uri": "https://localhost:8080/",
          "height": 17
        }
      },
      "execution_count": null,
      "outputs": [
        {
          "output_type": "display_data",
          "data": {
            "text/plain": [
              "<IPython.core.display.Javascript object>"
            ],
            "application/javascript": [
              "\n",
              "    async function download(id, filename, size) {\n",
              "      if (!google.colab.kernel.accessAllowed) {\n",
              "        return;\n",
              "      }\n",
              "      const div = document.createElement('div');\n",
              "      const label = document.createElement('label');\n",
              "      label.textContent = `Downloading \"${filename}\": `;\n",
              "      div.appendChild(label);\n",
              "      const progress = document.createElement('progress');\n",
              "      progress.max = size;\n",
              "      div.appendChild(progress);\n",
              "      document.body.appendChild(div);\n",
              "\n",
              "      const buffers = [];\n",
              "      let downloaded = 0;\n",
              "\n",
              "      const channel = await google.colab.kernel.comms.open(id);\n",
              "      // Send a message to notify the kernel that we're ready.\n",
              "      channel.send({})\n",
              "\n",
              "      for await (const message of channel.messages) {\n",
              "        // Send a message to notify the kernel that we're ready.\n",
              "        channel.send({})\n",
              "        if (message.buffers) {\n",
              "          for (const buffer of message.buffers) {\n",
              "            buffers.push(buffer);\n",
              "            downloaded += buffer.byteLength;\n",
              "            progress.value = downloaded;\n",
              "          }\n",
              "        }\n",
              "      }\n",
              "      const blob = new Blob(buffers, {type: 'application/binary'});\n",
              "      const a = document.createElement('a');\n",
              "      a.href = window.URL.createObjectURL(blob);\n",
              "      a.download = filename;\n",
              "      div.appendChild(a);\n",
              "      a.click();\n",
              "      div.remove();\n",
              "    }\n",
              "  "
            ]
          },
          "metadata": {}
        },
        {
          "output_type": "display_data",
          "data": {
            "text/plain": [
              "<IPython.core.display.Javascript object>"
            ],
            "application/javascript": [
              "download(\"download_f4888381-d57f-4df1-a495-b992205fa1ab\", \"split_data.zip\", 22101417)"
            ]
          },
          "metadata": {}
        }
      ]
    }
  ]
}